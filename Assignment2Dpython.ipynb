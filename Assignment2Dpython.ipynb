{
 "cells": [
  {
   "cell_type": "code",
   "execution_count": 7,
   "id": "28e8effb",
   "metadata": {},
   "outputs": [
    {
     "data": {
      "text/plain": [
       "bool"
      ]
     },
     "execution_count": 7,
     "metadata": {},
     "output_type": "execute_result"
    }
   ],
   "source": [
    "#1 What are the two values of the boolean data types ? how do you write them?\n",
    "#Ans = True and False are the two values of boolean data types , \n",
    "#We have to use capital T and F and with the rest of the word with lowercase.\n",
    "a = True\n",
    "b = False\n",
    "type (a)\n",
    "type (b)"
   ]
  },
  {
   "cell_type": "code",
   "execution_count": 10,
   "id": "f4a52985",
   "metadata": {},
   "outputs": [
    {
     "name": "stdout",
     "output_type": "stream",
     "text": [
      "True\n",
      "True\n",
      "False\n"
     ]
    }
   ],
   "source": [
    "#2 what are the three types of boolean operators ?\n",
    "#Ans = The three operators of boolean in python is : or , and , not.\n",
    "a=100\n",
    "b=200\n",
    "print ( a < b and b > a) # example of \"and\"\n",
    "print ( a < b or  b > a) # example of \"or\"\n",
    "print ( not(a > 10)) # example of \"not\""
   ]
  },
  {
   "cell_type": "code",
   "execution_count": null,
   "id": "8fd67ad1",
   "metadata": {},
   "outputs": [],
   "source": [
    "#3 Make a list of each Boolean operator's truth tables \n",
    "# (i.e. every possible combination of Boolean values for the operator and what it evaluate) ?\n",
    "# Ans = The truth table for boolean values are as follow:\n",
    "'''Truth Table for and operator :\n",
    "\n",
    " True and True is True\n",
    " True and False is False\n",
    " False and True is False\n",
    " False and False is False\n",
    "\n",
    " Truth Table for or operaotor :\n",
    "\n",
    " True and True is True\n",
    " True and False is True\n",
    " False and True is True\n",
    " False and False is False\n",
    "\n",
    " Truth Table for not operaotor :\n",
    "\n",
    " True not is False , False not is True'''"
   ]
  },
  {
   "cell_type": "code",
   "execution_count": 5,
   "id": "5d90f605",
   "metadata": {},
   "outputs": [
    {
     "name": "stdout",
     "output_type": "stream",
     "text": [
      "False\n",
      "False\n",
      "True\n",
      "False\n",
      "False\n",
      "True\n"
     ]
    }
   ],
   "source": [
    "#4 What are the values of the following expressions ?\n",
    "#Ans = \n",
    "print ((5 > 4) and (3 == 5)) #false\n",
    "print (not (5 > 4))  #false  \n",
    "print ((5 > 4) or (3 == 5))#true\n",
    "print( not ((5 > 4) or (3 == 5)))#false\n",
    "print ((True and True) and (True == False)) #false\n",
    "print ((not False) or (not True)) #true"
   ]
  },
  {
   "cell_type": "code",
   "execution_count": 6,
   "id": "610b9fa1",
   "metadata": {},
   "outputs": [
    {
     "data": {
      "text/plain": [
       "'==, != , <, >, <=, >='"
      ]
     },
     "execution_count": 6,
     "metadata": {},
     "output_type": "execute_result"
    }
   ],
   "source": [
    "#5 What are the six comparison operators?\n",
    "#Ans = The six comparison operators in python are :\n",
    "'''==, != , <, >, <=, >='''"
   ]
  },
  {
   "cell_type": "code",
   "execution_count": 7,
   "id": "7e1b6ac5",
   "metadata": {},
   "outputs": [
    {
     "name": "stdout",
     "output_type": "stream",
     "text": [
      "True\n"
     ]
    }
   ],
   "source": [
    "#6 How do you tell the difference between  the equal to and assignment operator ? Describe  a condition and when you will ?\n",
    "# Ans =  == is the equal to operator that compares two values and evaluates to boolean, while = is that assignment \n",
    "#      operator that stores a value in variable.\n",
    "a=3 # Assigning operator that stores 3 value in a variable a\n",
    "if a==3:#comparing values of a varible value and 3\n",
    "    print(a==3)  \n",
    "    "
   ]
  },
  {
   "cell_type": "code",
   "execution_count": 10,
   "id": "04d09114",
   "metadata": {},
   "outputs": [
    {
     "ename": "IndentationError",
     "evalue": "expected an indented block (Temp/ipykernel_27444/3582688937.py, line 4)",
     "output_type": "error",
     "traceback": [
      "\u001b[1;36m  File \u001b[1;32m\"C:\\Users\\Deepak\\AppData\\Local\\Temp/ipykernel_27444/3582688937.py\"\u001b[1;36m, line \u001b[1;32m4\u001b[0m\n\u001b[1;33m    print('eggs')\u001b[0m\n\u001b[1;37m    ^\u001b[0m\n\u001b[1;31mIndentationError\u001b[0m\u001b[1;31m:\u001b[0m expected an indented block\n"
     ]
    }
   ],
   "source": [
    "#7 Identify the three blocks in this code:\n",
    "spam = 0\n",
    "if spam == 10:\n",
    "print('eggs')\n",
    "if spam > 5:\n",
    "print('bacon')\n",
    "else:\n",
    "print('ham')\n",
    "print('spam')\n",
    "print('spam')"
   ]
  },
  {
   "cell_type": "code",
   "execution_count": 11,
   "id": "98bffbb7",
   "metadata": {},
   "outputs": [
    {
     "name": "stdout",
     "output_type": "stream",
     "text": [
      "ham\n",
      "spam\n",
      "spam\n"
     ]
    }
   ],
   "source": [
    "# Ans =  In Python, code block refers to a collection of code that is in the same block or indent.\n",
    "#This is most commonly found in classes, functions, and loops.\n",
    "spam = 0\n",
    "if spam == 10:\n",
    "    print('eggs') #block1\n",
    "if spam > 5:\n",
    "    print('bacon')#block2\n",
    "else:\n",
    "    print('ham')#block3\n",
    "    print('spam')\n",
    "    print('spam')\n"
   ]
  },
  {
   "cell_type": "code",
   "execution_count": 17,
   "id": "194e5835",
   "metadata": {},
   "outputs": [
    {
     "name": "stdout",
     "output_type": "stream",
     "text": [
      "hello\n",
      "howdy\n",
      "Greetings\n"
     ]
    }
   ],
   "source": [
    "#8 Write the code that print \"Hello\" if 1 is stored in spam , \n",
    "# prints Howdy if 2 is stored in spam, and prints Greetings! if anything else is stored in spam.\n",
    "#Ans = \n",
    "def spamCode(spam) :\n",
    "    \n",
    "    if spam == 1 :\n",
    "        print ( \"hello\")\n",
    "    elif spam == 2 :\n",
    "        print ( \"howdy\")\n",
    "    else :\n",
    "        print ( \"Greetings\")\n",
    "        \n",
    "spamCode(1)\n",
    "spamCode(2)\n",
    "spamCode(3)"
   ]
  },
  {
   "cell_type": "code",
   "execution_count": 18,
   "id": "0adbd7ba",
   "metadata": {},
   "outputs": [],
   "source": [
    "#9 If your programme is stuck in an endless loop, what keys you’ll press?\n",
    "#Ans = press ctrl+c to stop a prorgramme stuck in an infinte loop."
   ]
  },
  {
   "cell_type": "code",
   "execution_count": 19,
   "id": "bb39c673",
   "metadata": {},
   "outputs": [],
   "source": [
    "#10  How can you tell the difference between break and continue?\n",
    "# Ans = The 'break' statement will move the execution outside the loop if break condition satisfied.\n",
    "#   Whereas the 'continue 'statement will move the execution to the start of the loop"
   ]
  },
  {
   "cell_type": "code",
   "execution_count": 27,
   "id": "f11a698b",
   "metadata": {},
   "outputs": [
    {
     "data": {
      "text/plain": [
       "'\\nThe range(10) call range from 0 to 9 (but not include 10)\\n\\nThe range (0,10) explicitly tells the loop to start at 0\\n\\nThe range(0,10,1) explicitly tells the loop to increase the variable by 1 on each iteration'"
      ]
     },
     "execution_count": 27,
     "metadata": {},
     "output_type": "execute_result"
    }
   ],
   "source": [
    "#11 In a for loop, what is the difference between range(10), range(0, 10), and range(0, 10, 1)?\n",
    "#Ans = The Differences are as follows:\n",
    "'''\n",
    "The range(10) call range from 0 to 9 (but not include 10)\n",
    "\n",
    "The range (0,10) explicitly tells the loop to start at 0\n",
    "\n",
    "The range(0,10,1) explicitly tells the loop to increase the variable by 1 on each iteration'''\n"
   ]
  },
  {
   "cell_type": "code",
   "execution_count": 40,
   "id": "58bc142f",
   "metadata": {},
   "outputs": [
    {
     "name": "stdout",
     "output_type": "stream",
     "text": [
      "1  2  3  4  5  6  7  8  9  10  "
     ]
    }
   ],
   "source": [
    "#12 Write a short program that prints the numbers 1 to 10 using a for loop.\n",
    "for i in range (1,11):\n",
    "    print (i,end=\"  \")\n",
    "\n"
   ]
  },
  {
   "cell_type": "code",
   "execution_count": 44,
   "id": "cad4bea4",
   "metadata": {},
   "outputs": [
    {
     "name": "stdout",
     "output_type": "stream",
     "text": [
      "1 2 3 4 5 6 7 8 9 10 "
     ]
    }
   ],
   "source": [
    "#Then write an equivalent program that prints the numbers 1 to 10 using a while loop ?\n",
    "i = 1\n",
    "while i <= 10 :\n",
    "    print (i,end=\" \")\n",
    "    i+=1\n"
   ]
  },
  {
   "cell_type": "code",
   "execution_count": 45,
   "id": "b7fe8be9",
   "metadata": {},
   "outputs": [],
   "source": [
    "#13 If you had a function named bacon() inside a module named spam, how would you call it after importing spam ?\n",
    "#Ans spam.bacon()"
   ]
  },
  {
   "cell_type": "code",
   "execution_count": null,
   "id": "d32938bb",
   "metadata": {},
   "outputs": [],
   "source": [
    "\n"
   ]
  }
 ],
 "metadata": {
  "kernelspec": {
   "display_name": "Python 3 (ipykernel)",
   "language": "python",
   "name": "python3"
  },
  "language_info": {
   "codemirror_mode": {
    "name": "ipython",
    "version": 3
   },
   "file_extension": ".py",
   "mimetype": "text/x-python",
   "name": "python",
   "nbconvert_exporter": "python",
   "pygments_lexer": "ipython3",
   "version": "3.9.7"
  }
 },
 "nbformat": 4,
 "nbformat_minor": 5
}
